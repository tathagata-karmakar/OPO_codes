#!/usr/bin/env python3
# -*- coding: utf-8 -*-
"""
Created on Mon Jul 31 09:22:51 2023

@author: t_karmakar
"""

import os
import qutip as qt
import time
import matplotlib.pyplot as plt
import matplotlib as mpl
import numpy as np
from scipy.integrate import simps as intg
from matplotlib import rc
from pylab import rcParams
from FNO_structure import *
os.environ["PATH"] += os.pathsep + '/Library/TeX/texbin'
rc('text',usetex=True)

import jax.numpy as jnp
from jax import grad, jit, vmap
from jax import random

key=random.PRNGKey(0)
x=random.normal(key,(10,))
print (x)

size=3000
x=random.normal(key,(size,size),dtype=jnp.float32)
%timeit jnp.dot(x,x.T).block_until_ready()